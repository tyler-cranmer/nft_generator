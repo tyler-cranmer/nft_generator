{
 "cells": [
  {
   "cell_type": "code",
   "execution_count": 1,
   "id": "roman-conditioning",
   "metadata": {},
   "outputs": [],
   "source": [
    "import random\n",
    "import json"
   ]
  },
  {
   "cell_type": "code",
   "execution_count": 2,
   "id": "numeric-peace",
   "metadata": {},
   "outputs": [],
   "source": [
    "god_background = ['Aphrodite', 'Artemis', 'Athena', 'Bastet', 'Diana', 'Gaia', 'Hathor', 'Hela', 'Juno', 'Kali', 'Lakshmi', 'Minerva', 'Morrigan', 'Pele', 'Sekmet', 'Venus']\n",
    "god_avatar = [\"Beige\", \"Chocolate\", \"Crystalline\", \"Espresso\", \"Fair\", \"Gold\", \"Honey\", \"Ivory\", \"Umber\", 'Blue']\n",
    "god_hair = ['Aphrodite', 'Artemis', 'Athena', 'Bastet', 'Diana', 'Gaia', 'Hathor', 'Hela', 'Juno', 'Kali', 'Lakshmi', 'Minerva', 'Morrigan', 'Pele', 'Sekmet', 'Venus']\n",
    "god_eyes = ['Aphrodite', 'Artemis', 'Athena', 'Bastet', 'Diana', 'Gaia', 'Hathor', 'Hela', 'Juno', 'Kali', 'Lakshmi', 'Minerva', 'Morrigan', 'Pele', 'Sekmet', 'Venus']\n",
    "god_lips = ['Aphrodite', 'Artemis', 'Athena', 'Bastet', 'Diana', 'Gaia', 'Hathor', 'Hela', 'Juno', 'Kali', 'Lakshmi', 'Minerva', 'Morrigan', 'Pele', 'Sekmet', 'Venus']\n",
    "god_outfit = ['Aphrodite', 'Artemis', 'Athena', 'Bastet', 'Diana', 'Gaia', 'Hathor', 'Hela', 'Juno', 'Kali', 'Lakshmi', 'Minerva', 'Morrigan', 'Pele', 'Sekmet', 'Venus']\n",
    "god_nails = []\n",
    "\n",
    "god_names = ['Aphrodite', 'Artemis', 'Athena', 'Bastet', 'Diana', 'Gaia', 'Hathor', 'Hela', 'Juno', 'Kali', 'Lakshmi', 'Minerva', 'Morrigan', 'Pele', 'Sekmet', 'Venus']\n",
    "\n",
    "god_weights = [6,6,6,6,6,6,6,6,6,6,6,6,6,6,6,6]\n",
    "god_avatar_weights = [10,10,10,10,10,10,10,10,10,10]\n",
    "god_files =  {\n",
    "    'Aphrodite': 'aphrodite',\n",
    "    'Artemis': 'artemis',\n",
    "    'Athena': 'athena',\n",
    "    'Bastet': 'bastet',\n",
    "    'Diana': 'diana',\n",
    "    'Gaia': 'gaia',\n",
    "    'Hathor': 'hathor',\n",
    "    'Hela': 'hela',\n",
    "    'Juno': 'juno',\n",
    "    'Kali': 'kali',\n",
    "    'Lakshmi': 'lakshmi',\n",
    "    'Minerva': 'minerva',\n",
    "    'Morrigan': 'morrigan',\n",
    "    'Pele': 'pele',\n",
    "    'Sekmet': 'sekmet',\n",
    "    'Venus': 'venus'\n",
    "}\n",
    "\n",
    "\n",
    "god_avatar_files = {\n",
    "    \"Beige\": \"beige\",\n",
    "    \"Chocolate\": \"chocolate\",\n",
    "    \"Crystalline\": \"crystalline\",\n",
    "    \"Espresso\": \"espresso\",\n",
    "    \"Fair\": \"fair\",\n",
    "    \"Gold\": \"gold\",\n",
    "    \"Honey\": \"honey\",\n",
    "    \"Ivory\":\"ivory\",\n",
    "    \"Umber\": \"umber\"\n",
    "}\n",
    "\n",
    "god_outfit_files =  {\n",
    "    'Aphrodite': 'aphrodite',\n",
    "    'Artemis': 'artemis',\n",
    "    'Athena': 'athena',\n",
    "    'Bastet': 'bastet_cat',\n",
    "    'Diana': 'diana',\n",
    "    'Gaia': 'gaia',\n",
    "    'Hathor': 'hathor',\n",
    "    'Hela': 'hela_skulls',\n",
    "    'Juno': 'juno',\n",
    "    'Kali': 'kali',\n",
    "    'Lakshmi': 'lakshmi',\n",
    "    'Minerva': 'minerva_owl',\n",
    "    'Morrigan': 'morrigan_raven',\n",
    "    'Pele': 'pele',\n",
    "    'Sekmet': 'sekmet',\n",
    "    'Venus': 'venus'\n",
    "}\n",
    "\n",
    "goddess_body_pairs = {\n",
    "'Aphrodite' : 'Fair',\n",
    "'Artemis' : 'Fair',\n",
    "'Athena': 'Fair',\n",
    "'Bastet': 'Umber',\n",
    "'Diana': 'Espresso',\n",
    "'Gaia': 'Espresso',\n",
    "'Hathor': 'Espresso',\n",
    "'Hela': 'Espresso',\n",
    "'Juno': 'Fair',\n",
    "'Kali': 'Blue',\n",
    "'Lakshmi': 'Fair',\n",
    "'Minerva': 'Fair' ,\n",
    "'Morrigan': 'Fair',\n",
    "'Pele': 'Espresso',\n",
    "'Sekmet': 'Espresso',\n",
    "'Venus' : 'Fair' \n",
    "}"
   ]
  },
  {
   "cell_type": "code",
   "execution_count": 4,
   "id": "settled-spell",
   "metadata": {},
   "outputs": [],
   "source": [
    "TOTAL_IMAGES = 150\n",
    "\n",
    "all_images = []\n",
    "\n",
    "\n",
    "def create_goddess_image():\n",
    "    new_image = {}\n",
    "    \n",
    "    if (len(god_names) != 0): \n",
    "        selected_god = random.choices(god_names)[0]\n",
    "        new_image [\"Background\"] = selected_god\n",
    "        new_image [\"Avatar\"] = goddess_body_pairs[selected_god]\n",
    "        new_image [\"Hair\"] = selected_god\n",
    "        new_image [\"Eyes\"] = selected_god\n",
    "        new_image [\"Lips\"] = selected_god\n",
    "        new_image [\"Outfit\"] = selected_god\n",
    "        god_names.pop(god_names.index(selected_god))\n",
    "    else:\n",
    "        \n",
    "        selected_god = random.choices(god_background, god_weights)[0]\n",
    "        new_image [\"Background\"] = selected_god\n",
    "        new_image [\"Avatar\"] = random.choices(god_avatar, god_avatar_weights)[0]\n",
    "        new_image [\"Hair\"] = selected_god\n",
    "        new_image [\"Eyes\"] = selected_god\n",
    "        new_image [\"Lips\"] = selected_god\n",
    "        new_image [\"Outfit\"] = selected_god\n",
    "\n",
    "    \n",
    "    if new_image in all_images:\n",
    "        return create_goddess_image()\n",
    "    else:\n",
    "        return new_image\n",
    "    \n",
    "\n",
    "for i in range(TOTAL_IMAGES): \n",
    "    \n",
    "    new_trait_image = create_goddess_image()\n",
    "    \n",
    "    all_images.append(new_trait_image)"
   ]
  },
  {
   "cell_type": "code",
   "execution_count": 5,
   "id": "indirect-olive",
   "metadata": {},
   "outputs": [
    {
     "name": "stdout",
     "output_type": "stream",
     "text": [
      "Are all images unique? True\n"
     ]
    }
   ],
   "source": [
    "# Returns true if all images are unique\n",
    "def all_images_unique(all_images):\n",
    "    seen = list()\n",
    "    return not any(i in seen or seen.append(i) for i in all_images)\n",
    "\n",
    "print(\"Are all images unique?\", all_images_unique(all_images))"
   ]
  },
  {
   "cell_type": "code",
   "execution_count": 6,
   "id": "blessed-paintball",
   "metadata": {},
   "outputs": [],
   "source": [
    "# Add token Id to each image\n",
    "i = 1\n",
    "for item in all_images:\n",
    "    item[\"tokenId\"] = i\n",
    "    i = i + 1"
   ]
  },
  {
   "cell_type": "code",
   "execution_count": 8,
   "id": "broadband-mailman",
   "metadata": {},
   "outputs": [
    {
     "name": "stdout",
     "output_type": "stream",
     "text": [
      "Background Count =  {'Aphrodite': 1, 'Artemis': 0, 'Athena': 1, 'Bastet': 4, 'Diana': 1, 'Gaia': 2, 'Hathor': 2, 'Hela': 3, 'Juno': 0, 'Kali': 0, 'Lakshmi': 2, 'Minerva': 3, 'Morrigan': 2, 'Pele': 2, 'Sekmet': 1, 'Venus': 1}\n",
      "\n",
      "Avatar Count =  {'Beige': 0, 'Chocolate': 0, 'Crystalline': 0, 'Espresso': 11, 'Fair': 10, 'Gold': 0, 'Honey': 0, 'Ivory': 0, 'Umber': 4, 'Blue': 0}\n",
      "\n",
      "Hair Count = {'Aphrodite': 1, 'Artemis': 0, 'Athena': 1, 'Bastet': 4, 'Diana': 1, 'Gaia': 2, 'Hathor': 2, 'Hela': 3, 'Juno': 0, 'Kali': 0, 'Lakshmi': 2, 'Minerva': 3, 'Morrigan': 2, 'Pele': 2, 'Sekmet': 1, 'Venus': 1}\n",
      "\n",
      "Eye Count =  {'Aphrodite': 1, 'Artemis': 0, 'Athena': 1, 'Bastet': 4, 'Diana': 1, 'Gaia': 2, 'Hathor': 2, 'Hela': 3, 'Juno': 0, 'Kali': 0, 'Lakshmi': 2, 'Minerva': 3, 'Morrigan': 2, 'Pele': 2, 'Sekmet': 1, 'Venus': 1}\n",
      "\n",
      "Lips Count = {'Aphrodite': 1, 'Artemis': 0, 'Athena': 1, 'Bastet': 4, 'Diana': 1, 'Gaia': 2, 'Hathor': 2, 'Hela': 3, 'Juno': 0, 'Kali': 0, 'Lakshmi': 2, 'Minerva': 3, 'Morrigan': 2, 'Pele': 2, 'Sekmet': 1, 'Venus': 1}\n",
      "\n",
      "Outfit Count = {'Aphrodite': 1, 'Artemis': 0, 'Athena': 1, 'Bastet': 4, 'Diana': 1, 'Gaia': 2, 'Hathor': 2, 'Hela': 3, 'Juno': 0, 'Kali': 0, 'Lakshmi': 2, 'Minerva': 3, 'Morrigan': 2, 'Pele': 2, 'Sekmet': 1, 'Venus': 1}\n"
     ]
    }
   ],
   "source": [
    "god_background_count = {}\n",
    "for item in god_background:\n",
    "    god_background_count[item] = 0\n",
    "    \n",
    "god_avatar_count = {}\n",
    "for item in god_avatar:\n",
    "    god_avatar_count[item] = 0\n",
    "    \n",
    "god_hair_count = {}\n",
    "for item in god_hair:\n",
    "    god_hair_count[item] = 0\n",
    "    \n",
    "god_eyes_count = {}\n",
    "for item in god_eyes:\n",
    "    god_eyes_count[item] = 0\n",
    "    \n",
    "god_lips_count = {}\n",
    "for item in god_lips:\n",
    "    god_lips_count[item] = 0\n",
    "    \n",
    "god_outfit_count = {}\n",
    "for item in god_outfit:\n",
    "    god_outfit_count[item] = 0\n",
    "    \n",
    "\n",
    "for image in all_images:\n",
    "    god_background_count[image[\"Background\"]] += 1\n",
    "    god_avatar_count[image[\"Avatar\"]] += 1\n",
    "    god_eyes_count[image[\"Eyes\"]] += 1\n",
    "    god_lips_count[image[\"Lips\"]] += 1\n",
    "    god_hair_count[image[\"Hair\"]] += 1\n",
    "    god_outfit_count[image[\"Outfit\"]] += 1\n",
    "    \n",
    "print(\"Background Count = \", god_background_count)\n",
    "print(\"\\nAvatar Count = \", god_avatar_count)\n",
    "print(\"\\nHair Count =\", god_hair_count)\n",
    "print(\"\\nEye Count = \", god_eyes_count)\n",
    "print(\"\\nLips Count =\", god_lips_count)\n",
    "print(\"\\nOutfit Count =\", god_outfit_count)\n",
    "# print(\"\\nNail Count =\", nail_count)"
   ]
  },
  {
   "cell_type": "code",
   "execution_count": 17,
   "id": "pressing-nancy",
   "metadata": {},
   "outputs": [
    {
     "name": "stdout",
     "output_type": "stream",
     "text": [
      "[1, 3, 5, 7, 9, 11, 13, 15, 17, 19, 21, 23, 25, 27, 29, 31, 33]\n",
      "17\n"
     ]
    }
   ],
   "source": [
    "list1 = []\n",
    "for i in range(35):\n",
    "    if i % 2 == 1:\n",
    "        list1.append(i)\n",
    "print(list1)\n",
    "print(len(list1))"
   ]
  },
  {
   "cell_type": "code",
   "execution_count": 10,
   "id": "fourth-partner",
   "metadata": {},
   "outputs": [
    {
     "name": "stdout",
     "output_type": "stream",
     "text": [
      "[0, 69, 138, 207, 276, 345, 414, 483, 552, 621, 690, 759, 828, 897, 966, 1035, 1104, 1173, 1242, 1311, 1380, 1449, 1518, 1587, 1656, 1725, 1794, 1863, 1932, 2001, 2070, 2139, 2208, 2277, 2346, 2415, 2484, 2553, 2622, 2691, 2760, 2829, 2898, 2967, 3036, 3105, 3174, 3243, 3312, 3381, 3450, 3519, 3588, 3657, 3726, 3795, 3864, 3933, 4002, 4071, 4140, 4209, 4278, 4347, 4416, 4485, 4554, 4623, 4692, 4761, 4830, 4899, 4968, 5037, 5106, 5175, 5244, 5313, 5382, 5451, 5520, 5589, 5658, 5727, 5796, 5865, 5934, 6003, 6072, 6141, 6210, 6279, 6348, 6417, 6486, 6555, 6624, 6693, 6762, 6831, 6900]\n",
      "101\n"
     ]
    }
   ],
   "source": [
    "list1 = []\n",
    "for i in range(6969):\n",
    "    if i % 69 == 0:\n",
    "        list1.append(i)\n",
    "print(list1)\n",
    "print(len(list1))"
   ]
  },
  {
   "cell_type": "code",
   "execution_count": null,
   "id": "designed-intro",
   "metadata": {},
   "outputs": [],
   "source": []
  },
  {
   "cell_type": "code",
   "execution_count": 14,
   "id": "acceptable-context",
   "metadata": {},
   "outputs": [
    {
     "name": "stdout",
     "output_type": "stream",
     "text": [
      "we in\n"
     ]
    }
   ],
   "source": [
    "temp = ['Aphrodite', 'Artemis', 'Athena',\n",
    "                  'Bastet', 'Diana', 'Gaia', 'Hathor', 'Hela', 'Juno', 'Kali', 'Lakshmi', 'Minerva', 'Morrigan', 'Pele', 'Sekmet', 'Venus']\n",
    "\n",
    "item = 'Aphrodite'\n",
    "\n",
    "\n",
    "if (item not in temp):\n",
    "    print(\"not in\")\n",
    "else: \n",
    "    print(\"we in\")\n"
   ]
  },
  {
   "cell_type": "code",
   "execution_count": null,
   "id": "surrounded-annual",
   "metadata": {},
   "outputs": [],
   "source": []
  }
 ],
 "metadata": {
  "kernelspec": {
   "display_name": "Python 3",
   "language": "python",
   "name": "python3"
  },
  "language_info": {
   "codemirror_mode": {
    "name": "ipython",
    "version": 3
   },
   "file_extension": ".py",
   "mimetype": "text/x-python",
   "name": "python",
   "nbconvert_exporter": "python",
   "pygments_lexer": "ipython3",
   "version": "3.9.5"
  }
 },
 "nbformat": 4,
 "nbformat_minor": 5
}
